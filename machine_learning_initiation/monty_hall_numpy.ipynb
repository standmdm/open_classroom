{
 "cells": [
  {
   "cell_type": "markdown",
   "metadata": {},
   "source": [
    "# Monty Hall using numpy"
   ]
  },
  {
   "cell_type": "code",
   "execution_count": 3,
   "metadata": {},
   "outputs": [],
   "source": [
    "%matplotlib inline\n",
    "import numpy as np\n",
    "import matplotlib.pyplot as plt\n",
    "from enum import Enum"
   ]
  },
  {
   "cell_type": "code",
   "execution_count": 4,
   "metadata": {},
   "outputs": [],
   "source": [
    "class Strategie(Enum):\n",
    "    CHANGER = 1\n",
    "    GARDER = 0"
   ]
  },
  {
   "cell_type": "code",
   "execution_count": 47,
   "metadata": {},
   "outputs": [],
   "source": [
    "def play_game(strategie):\n",
    "    portes = np.array([0, 1, 2])\n",
    "    print(\"Notre numpy array contenant les portes au début du jeu\", portes)\n",
    "    \n",
    "    bonne_porte = np.random.randint(0,3)\n",
    "    print(bonne_porte)\n",
    "    \n",
    "    #choix du joueur\n",
    "    premier_choix = np.random.randint(0,3)\n",
    "    print(f\"Le premier choix du joueur est {premier_choix}\")\n",
    "    \n",
    "    # On retire le choix du joueur parmis les portes\n",
    "    portes = np.delete(portes, premier_choix)\n",
    "    print('portes restantes après élimination du choix du joueur:', portes)\n",
    "    \n",
    "    # Le présentateur élimine une porte\n",
    "    if premier_choix == bonne_porte:\n",
    "        np.delete(portes, portes[np.random.randint(0,2)])\n",
    "    else:\n",
    "        "
   ]
  },
  {
   "cell_type": "code",
   "execution_count": 48,
   "metadata": {},
   "outputs": [
    {
     "name": "stdout",
     "output_type": "stream",
     "text": [
      "Notre numpy array contenant les portes au début du jeu [0 1 2]\n",
      "0\n",
      "Le premier choix du joueur est 2\n",
      "portes restantes après élimination du choix du joueur: [0 1]\n"
     ]
    }
   ],
   "source": [
    "play_game(Strategie.GARDER)"
   ]
  },
  {
   "cell_type": "code",
   "execution_count": null,
   "metadata": {},
   "outputs": [],
   "source": []
  }
 ],
 "metadata": {
  "kernelspec": {
   "display_name": "Python 3",
   "language": "python",
   "name": "python3"
  },
  "language_info": {
   "codemirror_mode": {
    "name": "ipython",
    "version": 3
   },
   "file_extension": ".py",
   "mimetype": "text/x-python",
   "name": "python",
   "nbconvert_exporter": "python",
   "pygments_lexer": "ipython3",
   "version": "3.7.6"
  }
 },
 "nbformat": 4,
 "nbformat_minor": 4
}
